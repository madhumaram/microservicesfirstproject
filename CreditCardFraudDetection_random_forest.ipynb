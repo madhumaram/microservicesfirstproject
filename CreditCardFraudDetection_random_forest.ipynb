{
  "nbformat": 4,
  "nbformat_minor": 0,
  "metadata": {
    "colab": {
      "provenance": [],
      "authorship_tag": "ABX9TyMyjWMziuXu0dE6P3aLqE+o",
      "include_colab_link": true
    },
    "kernelspec": {
      "name": "python3",
      "display_name": "Python 3"
    },
    "language_info": {
      "name": "python"
    }
  },
  "cells": [
    {
      "cell_type": "markdown",
      "metadata": {
        "id": "view-in-github",
        "colab_type": "text"
      },
      "source": [
        "<a href=\"https://colab.research.google.com/github/madhumaram/microservicesfirstproject/blob/master/CreditCardFraudDetection_random_forest.ipynb\" target=\"_parent\"><img src=\"https://colab.research.google.com/assets/colab-badge.svg\" alt=\"Open In Colab\"/></a>"
      ]
    },
    {
      "cell_type": "markdown",
      "source": [
        "# 1. Introduction\n",
        "In this project we analyze a dataset of credit card transactions made over a two-day period in September 2013 by European cardholders. The dataset contains 284,807 transactions, of which 492 (0.17%) are fraudulent.\n",
        "\n",
        "Each transaction has 30 features, all of which are numerical. The features `V1, V2, ..., V28` are the result of a PCA transformation. To protect confidentiality, background information on these features is not available. The `Time` feature contains the time elapsed since the first transaction, and the `Amount` feature contains the transaction amount. The response variable, `Class`, is 1 in the case of fraud, and 0 otherwise.\n",
        "\n",
        "Our goal in this project is to construct models to predict whether a credit card transaction is fraudulent. We'll attempt a supervised learning approach. We'll also create visualizations to help us understand the structure of the data and unearth any interesting patterns."
      ],
      "metadata": {
        "id": "A83q-Xxuhd_9"
      }
    },
    {
      "cell_type": "markdown",
      "source": [
        "# 2. Getting Started\n",
        "Import basic libraries:"
      ],
      "metadata": {
        "id": "XkxkACXohzML"
      }
    },
    {
      "cell_type": "code",
      "execution_count": 1,
      "metadata": {
        "id": "rxqMlxWbfI2u"
      },
      "outputs": [],
      "source": [
        "import numpy as np\n",
        "import scipy as sp\n",
        "import pandas as pd\n",
        "import matplotlib as mpl\n",
        "import matplotlib.pyplot as plt\n",
        "import seaborn as sns"
      ]
    },
    {
      "cell_type": "code",
      "source": [
        "# Pandas options\n",
        "pd.set_option('display.max_colwidth', 1000, 'display.max_rows', None, 'display.max_columns', None)\n",
        "\n",
        "# Plotting options\n",
        "%matplotlib inline\n",
        "mpl.style.use('ggplot')\n",
        "sns.set(style='whitegrid')"
      ],
      "metadata": {
        "id": "DywZW9TRiKc9"
      },
      "execution_count": 3,
      "outputs": []
    },
    {
      "cell_type": "markdown",
      "source": [
        "Read in the data into a pandas dataframe."
      ],
      "metadata": {
        "id": "M7T-1llUiaMB"
      }
    },
    {
      "cell_type": "code",
      "source": [
        "transactions = pd.read_csv('creditcard.csv')"
      ],
      "metadata": {
        "id": "3xX_-knyiKf1"
      },
      "execution_count": 4,
      "outputs": []
    },
    {
      "cell_type": "markdown",
      "source": [
        "Check basic metadata."
      ],
      "metadata": {
        "id": "f6yPxsVqi5ek"
      }
    },
    {
      "cell_type": "code",
      "source": [
        "transactions.shape"
      ],
      "metadata": {
        "colab": {
          "base_uri": "https://localhost:8080/"
        },
        "id": "-m9p0jOai6PP",
        "outputId": "63d03b37-0e23-40b3-d21b-6705fe29373e"
      },
      "execution_count": 5,
      "outputs": [
        {
          "output_type": "execute_result",
          "data": {
            "text/plain": [
              "(27819, 31)"
            ]
          },
          "metadata": {},
          "execution_count": 5
        }
      ]
    },
    {
      "cell_type": "code",
      "source": [
        "transactions.info()"
      ],
      "metadata": {
        "colab": {
          "base_uri": "https://localhost:8080/"
        },
        "id": "KQL9sZgnjNcj",
        "outputId": "a7bbb551-79a2-48e0-8902-f58ff9d4535d"
      },
      "execution_count": 6,
      "outputs": [
        {
          "output_type": "stream",
          "name": "stdout",
          "text": [
            "<class 'pandas.core.frame.DataFrame'>\n",
            "RangeIndex: 27819 entries, 0 to 27818\n",
            "Data columns (total 31 columns):\n",
            " #   Column  Non-Null Count  Dtype  \n",
            "---  ------  --------------  -----  \n",
            " 0   Time    27819 non-null  int64  \n",
            " 1   V1      27818 non-null  float64\n",
            " 2   V2      27818 non-null  float64\n",
            " 3   V3      27818 non-null  float64\n",
            " 4   V4      27818 non-null  float64\n",
            " 5   V5      27818 non-null  float64\n",
            " 6   V6      27818 non-null  float64\n",
            " 7   V7      27818 non-null  float64\n",
            " 8   V8      27818 non-null  float64\n",
            " 9   V9      27818 non-null  float64\n",
            " 10  V10     27818 non-null  float64\n",
            " 11  V11     27818 non-null  float64\n",
            " 12  V12     27818 non-null  float64\n",
            " 13  V13     27818 non-null  float64\n",
            " 14  V14     27818 non-null  float64\n",
            " 15  V15     27818 non-null  float64\n",
            " 16  V16     27818 non-null  float64\n",
            " 17  V17     27818 non-null  float64\n",
            " 18  V18     27818 non-null  float64\n",
            " 19  V19     27818 non-null  float64\n",
            " 20  V20     27818 non-null  float64\n",
            " 21  V21     27818 non-null  float64\n",
            " 22  V22     27818 non-null  float64\n",
            " 23  V23     27818 non-null  float64\n",
            " 24  V24     27818 non-null  float64\n",
            " 25  V25     27818 non-null  float64\n",
            " 26  V26     27818 non-null  float64\n",
            " 27  V27     27818 non-null  float64\n",
            " 28  V28     27818 non-null  float64\n",
            " 29  Amount  27818 non-null  float64\n",
            " 30  Class   27818 non-null  float64\n",
            "dtypes: float64(30), int64(1)\n",
            "memory usage: 6.6 MB\n"
          ]
        }
      ]
    },
    {
      "cell_type": "markdown",
      "source": [
        "Are there any variables with missing data?"
      ],
      "metadata": {
        "id": "WpHINHdijUyd"
      }
    },
    {
      "cell_type": "code",
      "source": [
        "transactions.isnull().any().any()"
      ],
      "metadata": {
        "colab": {
          "base_uri": "https://localhost:8080/"
        },
        "id": "HlcZsyKcjNft",
        "outputId": "38b24468-678d-4abd-b593-1f6232f472a4"
      },
      "execution_count": 7,
      "outputs": [
        {
          "output_type": "execute_result",
          "data": {
            "text/plain": [
              "True"
            ]
          },
          "metadata": {},
          "execution_count": 7
        }
      ]
    },
    {
      "cell_type": "markdown",
      "source": [
        "Let's view five randomly chosen transactions."
      ],
      "metadata": {
        "id": "_dSORN5ejkox"
      }
    },
    {
      "cell_type": "code",
      "source": [
        "transactions.sample(5)"
      ],
      "metadata": {
        "colab": {
          "base_uri": "https://localhost:8080/",
          "height": 268
        },
        "id": "XbXQ15uCjn8y",
        "outputId": "ed9a18dd-34f6-46f2-930d-e53d98137048"
      },
      "execution_count": 8,
      "outputs": [
        {
          "output_type": "execute_result",
          "data": {
            "text/plain": [
              "        Time        V1        V2        V3        V4        V5        V6  \\\n",
              "20        16  0.694885 -1.361819  1.029221  0.834159 -1.191209  1.309109   \n",
              "1759    1358 -2.029822  1.866869  0.604924 -1.310795  0.571774  0.386385   \n",
              "11310  19686 -0.662631  0.605865  1.835166 -1.753022  0.043807 -1.205914   \n",
              "24457  33246  1.287311 -0.196390 -0.245885 -1.203786  0.178708  0.246528   \n",
              "15532  26922  1.270554  0.186507  0.189673  0.310732 -0.000698 -0.188303   \n",
              "\n",
              "             V7        V8        V9       V10       V11       V12       V13  \\\n",
              "20    -0.878586  0.445290 -0.446196  0.568521  1.019151  1.298329  0.420480   \n",
              "1759   0.331670 -1.694331  0.752595  1.175716  0.328247  1.164243  1.192176   \n",
              "11310  0.636009 -0.523757  2.331162 -1.550088  0.753518 -1.929827  2.076437   \n",
              "24457 -0.136541  0.084885  1.086622 -0.944045  0.638881  1.550376  0.669171   \n",
              "15532 -0.038634 -0.020051 -0.195060  0.095972  0.784917  0.914331  0.618352   \n",
              "\n",
              "            V14       V15       V16       V17       V18       V19       V20  \\\n",
              "20    -0.372651 -0.807980 -2.044557  0.515663  0.625847 -1.300408 -0.138334   \n",
              "1759  -0.717345 -0.977696  0.313715 -1.064555  0.059005  0.370919  0.289391   \n",
              "11310  1.165789  0.463515 -0.324997  0.015990  0.305714 -0.201912 -0.161475   \n",
              "24457  0.203636  0.444027 -0.661157 -0.379500  0.022808  1.203313 -0.080333   \n",
              "15532  0.338621  0.365549  0.729260 -0.988052  0.193508  0.479656 -0.034356   \n",
              "\n",
              "            V21       V22       V23       V24       V25       V26       V27  \\\n",
              "20    -0.295583 -0.571955 -0.050881 -0.304215  0.072001 -0.422234  0.086553   \n",
              "1759   1.134681 -0.941047  0.066733 -0.827689  0.184810  0.341179  0.543111   \n",
              "11310 -0.187687 -0.115120 -0.152142  0.311345 -0.333907 -1.168425 -0.250300   \n",
              "24457 -0.185025 -0.268175 -0.159404 -1.131976  0.728215 -0.727489  0.073112   \n",
              "15532 -0.255666 -0.765728  0.016557 -0.495445  0.304888  0.127299 -0.032882   \n",
              "\n",
              "            V28  Amount  Class  \n",
              "20     0.063499  231.71    0.0  \n",
              "1759   0.173462    5.00    0.0  \n",
              "11310 -0.076448    9.85    0.0  \n",
              "24457 -0.000983    1.00    0.0  \n",
              "15532  0.001449    4.49    0.0  "
            ],
            "text/html": [
              "\n",
              "  <div id=\"df-1283a5ea-f39e-4b02-b47e-d12bce9c8f99\">\n",
              "    <div class=\"colab-df-container\">\n",
              "      <div>\n",
              "<style scoped>\n",
              "    .dataframe tbody tr th:only-of-type {\n",
              "        vertical-align: middle;\n",
              "    }\n",
              "\n",
              "    .dataframe tbody tr th {\n",
              "        vertical-align: top;\n",
              "    }\n",
              "\n",
              "    .dataframe thead th {\n",
              "        text-align: right;\n",
              "    }\n",
              "</style>\n",
              "<table border=\"1\" class=\"dataframe\">\n",
              "  <thead>\n",
              "    <tr style=\"text-align: right;\">\n",
              "      <th></th>\n",
              "      <th>Time</th>\n",
              "      <th>V1</th>\n",
              "      <th>V2</th>\n",
              "      <th>V3</th>\n",
              "      <th>V4</th>\n",
              "      <th>V5</th>\n",
              "      <th>V6</th>\n",
              "      <th>V7</th>\n",
              "      <th>V8</th>\n",
              "      <th>V9</th>\n",
              "      <th>V10</th>\n",
              "      <th>V11</th>\n",
              "      <th>V12</th>\n",
              "      <th>V13</th>\n",
              "      <th>V14</th>\n",
              "      <th>V15</th>\n",
              "      <th>V16</th>\n",
              "      <th>V17</th>\n",
              "      <th>V18</th>\n",
              "      <th>V19</th>\n",
              "      <th>V20</th>\n",
              "      <th>V21</th>\n",
              "      <th>V22</th>\n",
              "      <th>V23</th>\n",
              "      <th>V24</th>\n",
              "      <th>V25</th>\n",
              "      <th>V26</th>\n",
              "      <th>V27</th>\n",
              "      <th>V28</th>\n",
              "      <th>Amount</th>\n",
              "      <th>Class</th>\n",
              "    </tr>\n",
              "  </thead>\n",
              "  <tbody>\n",
              "    <tr>\n",
              "      <th>20</th>\n",
              "      <td>16</td>\n",
              "      <td>0.694885</td>\n",
              "      <td>-1.361819</td>\n",
              "      <td>1.029221</td>\n",
              "      <td>0.834159</td>\n",
              "      <td>-1.191209</td>\n",
              "      <td>1.309109</td>\n",
              "      <td>-0.878586</td>\n",
              "      <td>0.445290</td>\n",
              "      <td>-0.446196</td>\n",
              "      <td>0.568521</td>\n",
              "      <td>1.019151</td>\n",
              "      <td>1.298329</td>\n",
              "      <td>0.420480</td>\n",
              "      <td>-0.372651</td>\n",
              "      <td>-0.807980</td>\n",
              "      <td>-2.044557</td>\n",
              "      <td>0.515663</td>\n",
              "      <td>0.625847</td>\n",
              "      <td>-1.300408</td>\n",
              "      <td>-0.138334</td>\n",
              "      <td>-0.295583</td>\n",
              "      <td>-0.571955</td>\n",
              "      <td>-0.050881</td>\n",
              "      <td>-0.304215</td>\n",
              "      <td>0.072001</td>\n",
              "      <td>-0.422234</td>\n",
              "      <td>0.086553</td>\n",
              "      <td>0.063499</td>\n",
              "      <td>231.71</td>\n",
              "      <td>0.0</td>\n",
              "    </tr>\n",
              "    <tr>\n",
              "      <th>1759</th>\n",
              "      <td>1358</td>\n",
              "      <td>-2.029822</td>\n",
              "      <td>1.866869</td>\n",
              "      <td>0.604924</td>\n",
              "      <td>-1.310795</td>\n",
              "      <td>0.571774</td>\n",
              "      <td>0.386385</td>\n",
              "      <td>0.331670</td>\n",
              "      <td>-1.694331</td>\n",
              "      <td>0.752595</td>\n",
              "      <td>1.175716</td>\n",
              "      <td>0.328247</td>\n",
              "      <td>1.164243</td>\n",
              "      <td>1.192176</td>\n",
              "      <td>-0.717345</td>\n",
              "      <td>-0.977696</td>\n",
              "      <td>0.313715</td>\n",
              "      <td>-1.064555</td>\n",
              "      <td>0.059005</td>\n",
              "      <td>0.370919</td>\n",
              "      <td>0.289391</td>\n",
              "      <td>1.134681</td>\n",
              "      <td>-0.941047</td>\n",
              "      <td>0.066733</td>\n",
              "      <td>-0.827689</td>\n",
              "      <td>0.184810</td>\n",
              "      <td>0.341179</td>\n",
              "      <td>0.543111</td>\n",
              "      <td>0.173462</td>\n",
              "      <td>5.00</td>\n",
              "      <td>0.0</td>\n",
              "    </tr>\n",
              "    <tr>\n",
              "      <th>11310</th>\n",
              "      <td>19686</td>\n",
              "      <td>-0.662631</td>\n",
              "      <td>0.605865</td>\n",
              "      <td>1.835166</td>\n",
              "      <td>-1.753022</td>\n",
              "      <td>0.043807</td>\n",
              "      <td>-1.205914</td>\n",
              "      <td>0.636009</td>\n",
              "      <td>-0.523757</td>\n",
              "      <td>2.331162</td>\n",
              "      <td>-1.550088</td>\n",
              "      <td>0.753518</td>\n",
              "      <td>-1.929827</td>\n",
              "      <td>2.076437</td>\n",
              "      <td>1.165789</td>\n",
              "      <td>0.463515</td>\n",
              "      <td>-0.324997</td>\n",
              "      <td>0.015990</td>\n",
              "      <td>0.305714</td>\n",
              "      <td>-0.201912</td>\n",
              "      <td>-0.161475</td>\n",
              "      <td>-0.187687</td>\n",
              "      <td>-0.115120</td>\n",
              "      <td>-0.152142</td>\n",
              "      <td>0.311345</td>\n",
              "      <td>-0.333907</td>\n",
              "      <td>-1.168425</td>\n",
              "      <td>-0.250300</td>\n",
              "      <td>-0.076448</td>\n",
              "      <td>9.85</td>\n",
              "      <td>0.0</td>\n",
              "    </tr>\n",
              "    <tr>\n",
              "      <th>24457</th>\n",
              "      <td>33246</td>\n",
              "      <td>1.287311</td>\n",
              "      <td>-0.196390</td>\n",
              "      <td>-0.245885</td>\n",
              "      <td>-1.203786</td>\n",
              "      <td>0.178708</td>\n",
              "      <td>0.246528</td>\n",
              "      <td>-0.136541</td>\n",
              "      <td>0.084885</td>\n",
              "      <td>1.086622</td>\n",
              "      <td>-0.944045</td>\n",
              "      <td>0.638881</td>\n",
              "      <td>1.550376</td>\n",
              "      <td>0.669171</td>\n",
              "      <td>0.203636</td>\n",
              "      <td>0.444027</td>\n",
              "      <td>-0.661157</td>\n",
              "      <td>-0.379500</td>\n",
              "      <td>0.022808</td>\n",
              "      <td>1.203313</td>\n",
              "      <td>-0.080333</td>\n",
              "      <td>-0.185025</td>\n",
              "      <td>-0.268175</td>\n",
              "      <td>-0.159404</td>\n",
              "      <td>-1.131976</td>\n",
              "      <td>0.728215</td>\n",
              "      <td>-0.727489</td>\n",
              "      <td>0.073112</td>\n",
              "      <td>-0.000983</td>\n",
              "      <td>1.00</td>\n",
              "      <td>0.0</td>\n",
              "    </tr>\n",
              "    <tr>\n",
              "      <th>15532</th>\n",
              "      <td>26922</td>\n",
              "      <td>1.270554</td>\n",
              "      <td>0.186507</td>\n",
              "      <td>0.189673</td>\n",
              "      <td>0.310732</td>\n",
              "      <td>-0.000698</td>\n",
              "      <td>-0.188303</td>\n",
              "      <td>-0.038634</td>\n",
              "      <td>-0.020051</td>\n",
              "      <td>-0.195060</td>\n",
              "      <td>0.095972</td>\n",
              "      <td>0.784917</td>\n",
              "      <td>0.914331</td>\n",
              "      <td>0.618352</td>\n",
              "      <td>0.338621</td>\n",
              "      <td>0.365549</td>\n",
              "      <td>0.729260</td>\n",
              "      <td>-0.988052</td>\n",
              "      <td>0.193508</td>\n",
              "      <td>0.479656</td>\n",
              "      <td>-0.034356</td>\n",
              "      <td>-0.255666</td>\n",
              "      <td>-0.765728</td>\n",
              "      <td>0.016557</td>\n",
              "      <td>-0.495445</td>\n",
              "      <td>0.304888</td>\n",
              "      <td>0.127299</td>\n",
              "      <td>-0.032882</td>\n",
              "      <td>0.001449</td>\n",
              "      <td>4.49</td>\n",
              "      <td>0.0</td>\n",
              "    </tr>\n",
              "  </tbody>\n",
              "</table>\n",
              "</div>\n",
              "      <button class=\"colab-df-convert\" onclick=\"convertToInteractive('df-1283a5ea-f39e-4b02-b47e-d12bce9c8f99')\"\n",
              "              title=\"Convert this dataframe to an interactive table.\"\n",
              "              style=\"display:none;\">\n",
              "        \n",
              "  <svg xmlns=\"http://www.w3.org/2000/svg\" height=\"24px\"viewBox=\"0 0 24 24\"\n",
              "       width=\"24px\">\n",
              "    <path d=\"M0 0h24v24H0V0z\" fill=\"none\"/>\n",
              "    <path d=\"M18.56 5.44l.94 2.06.94-2.06 2.06-.94-2.06-.94-.94-2.06-.94 2.06-2.06.94zm-11 1L8.5 8.5l.94-2.06 2.06-.94-2.06-.94L8.5 2.5l-.94 2.06-2.06.94zm10 10l.94 2.06.94-2.06 2.06-.94-2.06-.94-.94-2.06-.94 2.06-2.06.94z\"/><path d=\"M17.41 7.96l-1.37-1.37c-.4-.4-.92-.59-1.43-.59-.52 0-1.04.2-1.43.59L10.3 9.45l-7.72 7.72c-.78.78-.78 2.05 0 2.83L4 21.41c.39.39.9.59 1.41.59.51 0 1.02-.2 1.41-.59l7.78-7.78 2.81-2.81c.8-.78.8-2.07 0-2.86zM5.41 20L4 18.59l7.72-7.72 1.47 1.35L5.41 20z\"/>\n",
              "  </svg>\n",
              "      </button>\n",
              "      \n",
              "  <style>\n",
              "    .colab-df-container {\n",
              "      display:flex;\n",
              "      flex-wrap:wrap;\n",
              "      gap: 12px;\n",
              "    }\n",
              "\n",
              "    .colab-df-convert {\n",
              "      background-color: #E8F0FE;\n",
              "      border: none;\n",
              "      border-radius: 50%;\n",
              "      cursor: pointer;\n",
              "      display: none;\n",
              "      fill: #1967D2;\n",
              "      height: 32px;\n",
              "      padding: 0 0 0 0;\n",
              "      width: 32px;\n",
              "    }\n",
              "\n",
              "    .colab-df-convert:hover {\n",
              "      background-color: #E2EBFA;\n",
              "      box-shadow: 0px 1px 2px rgba(60, 64, 67, 0.3), 0px 1px 3px 1px rgba(60, 64, 67, 0.15);\n",
              "      fill: #174EA6;\n",
              "    }\n",
              "\n",
              "    [theme=dark] .colab-df-convert {\n",
              "      background-color: #3B4455;\n",
              "      fill: #D2E3FC;\n",
              "    }\n",
              "\n",
              "    [theme=dark] .colab-df-convert:hover {\n",
              "      background-color: #434B5C;\n",
              "      box-shadow: 0px 1px 3px 1px rgba(0, 0, 0, 0.15);\n",
              "      filter: drop-shadow(0px 1px 2px rgba(0, 0, 0, 0.3));\n",
              "      fill: #FFFFFF;\n",
              "    }\n",
              "  </style>\n",
              "\n",
              "      <script>\n",
              "        const buttonEl =\n",
              "          document.querySelector('#df-1283a5ea-f39e-4b02-b47e-d12bce9c8f99 button.colab-df-convert');\n",
              "        buttonEl.style.display =\n",
              "          google.colab.kernel.accessAllowed ? 'block' : 'none';\n",
              "\n",
              "        async function convertToInteractive(key) {\n",
              "          const element = document.querySelector('#df-1283a5ea-f39e-4b02-b47e-d12bce9c8f99');\n",
              "          const dataTable =\n",
              "            await google.colab.kernel.invokeFunction('convertToInteractive',\n",
              "                                                     [key], {});\n",
              "          if (!dataTable) return;\n",
              "\n",
              "          const docLinkHtml = 'Like what you see? Visit the ' +\n",
              "            '<a target=\"_blank\" href=https://colab.research.google.com/notebooks/data_table.ipynb>data table notebook</a>'\n",
              "            + ' to learn more about interactive tables.';\n",
              "          element.innerHTML = '';\n",
              "          dataTable['output_type'] = 'display_data';\n",
              "          await google.colab.output.renderOutput(dataTable, element);\n",
              "          const docLink = document.createElement('div');\n",
              "          docLink.innerHTML = docLinkHtml;\n",
              "          element.appendChild(docLink);\n",
              "        }\n",
              "      </script>\n",
              "    </div>\n",
              "  </div>\n",
              "  "
            ]
          },
          "metadata": {},
          "execution_count": 8
        }
      ]
    },
    {
      "cell_type": "markdown",
      "source": [
        "How balanced are the classes, i.e. how common are fraudulent transactions?"
      ],
      "metadata": {
        "id": "dZ1s1P0rECsG"
      }
    },
    {
      "cell_type": "code",
      "source": [
        "transactions['Class'].value_counts()"
      ],
      "metadata": {
        "colab": {
          "base_uri": "https://localhost:8080/"
        },
        "id": "0aSAx7dtEDqS",
        "outputId": "37b9426f-2ba9-424f-e757-d75a335915ba"
      },
      "execution_count": 9,
      "outputs": [
        {
          "output_type": "execute_result",
          "data": {
            "text/plain": [
              "0.0    27725\n",
              "1.0       93\n",
              "Name: Class, dtype: int64"
            ]
          },
          "metadata": {},
          "execution_count": 9
        }
      ]
    },
    {
      "cell_type": "code",
      "source": [
        "transactions['Class'].value_counts(normalize=True)"
      ],
      "metadata": {
        "colab": {
          "base_uri": "https://localhost:8080/"
        },
        "id": "0hVgkhArER0R",
        "outputId": "b850ae51-bed8-447e-81a9-97fb0e8a464f"
      },
      "execution_count": 10,
      "outputs": [
        {
          "output_type": "execute_result",
          "data": {
            "text/plain": [
              "0.0    0.996657\n",
              "1.0    0.003343\n",
              "Name: Class, dtype: float64"
            ]
          },
          "metadata": {},
          "execution_count": 10
        }
      ]
    },
    {
      "cell_type": "markdown",
      "source": [
        "Only 0.33% (928 out of 284,807) transactions are fraudulent."
      ],
      "metadata": {
        "id": "NDupGPurEZTr"
      }
    },
    {
      "cell_type": "markdown",
      "source": [
        "# 3. Train/Test Split\n",
        "Before we begin preprocessing, we split off a test data set. First split the data into features and response variable:"
      ],
      "metadata": {
        "id": "txm5Ozm2FC08"
      }
    },
    {
      "cell_type": "code",
      "source": [
        "X = transactions.drop(labels='Class', axis=1) # Features\n",
        "y = transactions.loc[:,'Class']               # Response\n",
        "del transactions                              # Delete the original data"
      ],
      "metadata": {
        "id": "Kn_lMP4ZFF2d"
      },
      "execution_count": 11,
      "outputs": []
    },
    {
      "cell_type": "markdown",
      "source": [
        "We'll use a test size of 20%. We also stratify the split on the response variable, which is very important to do because there are so few fraudulent transactions."
      ],
      "metadata": {
        "id": "4wy9_5HWFZeJ"
      }
    },
    {
      "cell_type": "code",
      "source": [
        "from sklearn.model_selection import train_test_split"
      ],
      "metadata": {
        "id": "oOWqiAioFaNj"
      },
      "execution_count": 12,
      "outputs": []
    },
    {
      "cell_type": "code",
      "source": [
        "X_train, X_test, y_train, y_test = train_test_split(X, y, test_size=0.2, random_state=1, stratify=y)\n",
        "del X, y"
      ],
      "metadata": {
        "colab": {
          "base_uri": "https://localhost:8080/",
          "height": 358
        },
        "id": "7SbzlCJ1Fgt8",
        "outputId": "228c97de-c0b3-40d9-c358-4b2e59f686f9"
      },
      "execution_count": 14,
      "outputs": [
        {
          "output_type": "error",
          "ename": "ValueError",
          "evalue": "ignored",
          "traceback": [
            "\u001b[0;31m---------------------------------------------------------------------------\u001b[0m",
            "\u001b[0;31mValueError\u001b[0m                                Traceback (most recent call last)",
            "\u001b[0;32m<ipython-input-14-671fad4bf2d4>\u001b[0m in \u001b[0;36m<module>\u001b[0;34m\u001b[0m\n\u001b[0;32m----> 1\u001b[0;31m \u001b[0mX_train\u001b[0m\u001b[0;34m,\u001b[0m \u001b[0mX_test\u001b[0m\u001b[0;34m,\u001b[0m \u001b[0my_train\u001b[0m\u001b[0;34m,\u001b[0m \u001b[0my_test\u001b[0m \u001b[0;34m=\u001b[0m \u001b[0mtrain_test_split\u001b[0m\u001b[0;34m(\u001b[0m\u001b[0mX\u001b[0m\u001b[0;34m,\u001b[0m \u001b[0my\u001b[0m\u001b[0;34m,\u001b[0m \u001b[0mtest_size\u001b[0m\u001b[0;34m=\u001b[0m\u001b[0;36m0.2\u001b[0m\u001b[0;34m,\u001b[0m \u001b[0mrandom_state\u001b[0m\u001b[0;34m=\u001b[0m\u001b[0;36m1\u001b[0m\u001b[0;34m,\u001b[0m \u001b[0mstratify\u001b[0m\u001b[0;34m=\u001b[0m\u001b[0my\u001b[0m\u001b[0;34m)\u001b[0m\u001b[0;34m\u001b[0m\u001b[0;34m\u001b[0m\u001b[0m\n\u001b[0m\u001b[1;32m      2\u001b[0m \u001b[0;32mdel\u001b[0m \u001b[0mX\u001b[0m\u001b[0;34m,\u001b[0m \u001b[0my\u001b[0m\u001b[0;34m\u001b[0m\u001b[0;34m\u001b[0m\u001b[0m\n",
            "\u001b[0;32m/usr/local/lib/python3.8/dist-packages/sklearn/model_selection/_split.py\u001b[0m in \u001b[0;36mtrain_test_split\u001b[0;34m(test_size, train_size, random_state, shuffle, stratify, *arrays)\u001b[0m\n\u001b[1;32m   2439\u001b[0m         \u001b[0mcv\u001b[0m \u001b[0;34m=\u001b[0m \u001b[0mCVClass\u001b[0m\u001b[0;34m(\u001b[0m\u001b[0mtest_size\u001b[0m\u001b[0;34m=\u001b[0m\u001b[0mn_test\u001b[0m\u001b[0;34m,\u001b[0m \u001b[0mtrain_size\u001b[0m\u001b[0;34m=\u001b[0m\u001b[0mn_train\u001b[0m\u001b[0;34m,\u001b[0m \u001b[0mrandom_state\u001b[0m\u001b[0;34m=\u001b[0m\u001b[0mrandom_state\u001b[0m\u001b[0;34m)\u001b[0m\u001b[0;34m\u001b[0m\u001b[0;34m\u001b[0m\u001b[0m\n\u001b[1;32m   2440\u001b[0m \u001b[0;34m\u001b[0m\u001b[0m\n\u001b[0;32m-> 2441\u001b[0;31m         \u001b[0mtrain\u001b[0m\u001b[0;34m,\u001b[0m \u001b[0mtest\u001b[0m \u001b[0;34m=\u001b[0m \u001b[0mnext\u001b[0m\u001b[0;34m(\u001b[0m\u001b[0mcv\u001b[0m\u001b[0;34m.\u001b[0m\u001b[0msplit\u001b[0m\u001b[0;34m(\u001b[0m\u001b[0mX\u001b[0m\u001b[0;34m=\u001b[0m\u001b[0marrays\u001b[0m\u001b[0;34m[\u001b[0m\u001b[0;36m0\u001b[0m\u001b[0;34m]\u001b[0m\u001b[0;34m,\u001b[0m \u001b[0my\u001b[0m\u001b[0;34m=\u001b[0m\u001b[0mstratify\u001b[0m\u001b[0;34m)\u001b[0m\u001b[0;34m)\u001b[0m\u001b[0;34m\u001b[0m\u001b[0;34m\u001b[0m\u001b[0m\n\u001b[0m\u001b[1;32m   2442\u001b[0m \u001b[0;34m\u001b[0m\u001b[0m\n\u001b[1;32m   2443\u001b[0m     return list(\n",
            "\u001b[0;32m/usr/local/lib/python3.8/dist-packages/sklearn/model_selection/_split.py\u001b[0m in \u001b[0;36msplit\u001b[0;34m(self, X, y, groups)\u001b[0m\n\u001b[1;32m   2020\u001b[0m         \u001b[0mto\u001b[0m \u001b[0man\u001b[0m \u001b[0minteger\u001b[0m\u001b[0;34m.\u001b[0m\u001b[0;34m\u001b[0m\u001b[0;34m\u001b[0m\u001b[0m\n\u001b[1;32m   2021\u001b[0m         \"\"\"\n\u001b[0;32m-> 2022\u001b[0;31m         \u001b[0my\u001b[0m \u001b[0;34m=\u001b[0m \u001b[0mcheck_array\u001b[0m\u001b[0;34m(\u001b[0m\u001b[0my\u001b[0m\u001b[0;34m,\u001b[0m \u001b[0mensure_2d\u001b[0m\u001b[0;34m=\u001b[0m\u001b[0;32mFalse\u001b[0m\u001b[0;34m,\u001b[0m \u001b[0mdtype\u001b[0m\u001b[0;34m=\u001b[0m\u001b[0;32mNone\u001b[0m\u001b[0;34m)\u001b[0m\u001b[0;34m\u001b[0m\u001b[0;34m\u001b[0m\u001b[0m\n\u001b[0m\u001b[1;32m   2023\u001b[0m         \u001b[0;32mreturn\u001b[0m \u001b[0msuper\u001b[0m\u001b[0;34m(\u001b[0m\u001b[0;34m)\u001b[0m\u001b[0;34m.\u001b[0m\u001b[0msplit\u001b[0m\u001b[0;34m(\u001b[0m\u001b[0mX\u001b[0m\u001b[0;34m,\u001b[0m \u001b[0my\u001b[0m\u001b[0;34m,\u001b[0m \u001b[0mgroups\u001b[0m\u001b[0;34m)\u001b[0m\u001b[0;34m\u001b[0m\u001b[0;34m\u001b[0m\u001b[0m\n\u001b[1;32m   2024\u001b[0m \u001b[0;34m\u001b[0m\u001b[0m\n",
            "\u001b[0;32m/usr/local/lib/python3.8/dist-packages/sklearn/utils/validation.py\u001b[0m in \u001b[0;36mcheck_array\u001b[0;34m(array, accept_sparse, accept_large_sparse, dtype, order, copy, force_all_finite, ensure_2d, allow_nd, ensure_min_samples, ensure_min_features, estimator)\u001b[0m\n\u001b[1;32m    798\u001b[0m \u001b[0;34m\u001b[0m\u001b[0m\n\u001b[1;32m    799\u001b[0m         \u001b[0;32mif\u001b[0m \u001b[0mforce_all_finite\u001b[0m\u001b[0;34m:\u001b[0m\u001b[0;34m\u001b[0m\u001b[0;34m\u001b[0m\u001b[0m\n\u001b[0;32m--> 800\u001b[0;31m             \u001b[0m_assert_all_finite\u001b[0m\u001b[0;34m(\u001b[0m\u001b[0marray\u001b[0m\u001b[0;34m,\u001b[0m \u001b[0mallow_nan\u001b[0m\u001b[0;34m=\u001b[0m\u001b[0mforce_all_finite\u001b[0m \u001b[0;34m==\u001b[0m \u001b[0;34m\"allow-nan\"\u001b[0m\u001b[0;34m)\u001b[0m\u001b[0;34m\u001b[0m\u001b[0;34m\u001b[0m\u001b[0m\n\u001b[0m\u001b[1;32m    801\u001b[0m \u001b[0;34m\u001b[0m\u001b[0m\n\u001b[1;32m    802\u001b[0m     \u001b[0;32mif\u001b[0m \u001b[0mensure_min_samples\u001b[0m \u001b[0;34m>\u001b[0m \u001b[0;36m0\u001b[0m\u001b[0;34m:\u001b[0m\u001b[0;34m\u001b[0m\u001b[0;34m\u001b[0m\u001b[0m\n",
            "\u001b[0;32m/usr/local/lib/python3.8/dist-packages/sklearn/utils/validation.py\u001b[0m in \u001b[0;36m_assert_all_finite\u001b[0;34m(X, allow_nan, msg_dtype)\u001b[0m\n\u001b[1;32m    112\u001b[0m         ):\n\u001b[1;32m    113\u001b[0m             \u001b[0mtype_err\u001b[0m \u001b[0;34m=\u001b[0m \u001b[0;34m\"infinity\"\u001b[0m \u001b[0;32mif\u001b[0m \u001b[0mallow_nan\u001b[0m \u001b[0;32melse\u001b[0m \u001b[0;34m\"NaN, infinity\"\u001b[0m\u001b[0;34m\u001b[0m\u001b[0;34m\u001b[0m\u001b[0m\n\u001b[0;32m--> 114\u001b[0;31m             raise ValueError(\n\u001b[0m\u001b[1;32m    115\u001b[0m                 msg_err.format(\n\u001b[1;32m    116\u001b[0m                     \u001b[0mtype_err\u001b[0m\u001b[0;34m,\u001b[0m \u001b[0mmsg_dtype\u001b[0m \u001b[0;32mif\u001b[0m \u001b[0mmsg_dtype\u001b[0m \u001b[0;32mis\u001b[0m \u001b[0;32mnot\u001b[0m \u001b[0;32mNone\u001b[0m \u001b[0;32melse\u001b[0m \u001b[0mX\u001b[0m\u001b[0;34m.\u001b[0m\u001b[0mdtype\u001b[0m\u001b[0;34m\u001b[0m\u001b[0;34m\u001b[0m\u001b[0m\n",
            "\u001b[0;31mValueError\u001b[0m: Input contains NaN, infinity or a value too large for dtype('float64')."
          ]
        }
      ]
    }
  ]
}