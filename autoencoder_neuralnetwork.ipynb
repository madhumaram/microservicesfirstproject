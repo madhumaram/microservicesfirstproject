{
  "nbformat": 4,
  "nbformat_minor": 0,
  "metadata": {
    "colab": {
      "provenance": [],
      "authorship_tag": "ABX9TyP9vGM8ZJhfJWGVrA6/mXfP",
      "include_colab_link": true
    },
    "kernelspec": {
      "name": "python3",
      "display_name": "Python 3"
    },
    "language_info": {
      "name": "python"
    }
  },
  "cells": [
    {
      "cell_type": "markdown",
      "metadata": {
        "id": "view-in-github",
        "colab_type": "text"
      },
      "source": [
        "<a href=\"https://colab.research.google.com/github/madhumaram/microservicesfirstproject/blob/master/autoencoder_neuralnetwork.ipynb\" target=\"_parent\"><img src=\"https://colab.research.google.com/assets/colab-badge.svg\" alt=\"Open In Colab\"/></a>"
      ]
    },
    {
      "cell_type": "markdown",
      "source": [
        "The MNIST dataset can be conveniently imported through Keras ."
      ],
      "metadata": {
        "id": "4QADO877QwmS"
      }
    },
    {
      "cell_type": "code",
      "execution_count": 1,
      "metadata": {
        "id": "pNW8a8jRQrPy"
      },
      "outputs": [],
      "source": [
        "from keras.datasets import mnist \n",
        "import numpy as np\n",
        "from matplotlib import pyplot as plt"
      ]
    },
    {
      "cell_type": "markdown",
      "source": [
        "The MNIST dataset comprises 70,000 28X28 pixels images of handwritten digits and 70,000 vectors containing information on which digit each one is. The image training data is scaled from [0, 255] to [0,1] to allow for use of the sigmoid activation function."
      ],
      "metadata": {
        "id": "LNxViNNqQ8RX"
      }
    },
    {
      "cell_type": "code",
      "source": [
        "(X_train, y_train), (X_test, y_train) = mnist.load_data() \n",
        "X_train = X_train.astype('float32') / 255.0\n",
        "X_test = X_test.astype('float32') / 255.0"
      ],
      "metadata": {
        "colab": {
          "base_uri": "https://localhost:8080/"
        },
        "id": "8vNLkTvzRGyS",
        "outputId": "a33312c3-f9d8-46f4-ed01-f401e63189ac"
      },
      "execution_count": 2,
      "outputs": [
        {
          "output_type": "stream",
          "name": "stdout",
          "text": [
            "Downloading data from https://storage.googleapis.com/tensorflow/tf-keras-datasets/mnist.npz\n",
            "11490434/11490434 [==============================] - 0s 0us/step\n"
          ]
        }
      ]
    },
    {
      "cell_type": "markdown",
      "source": [
        "To check our data, we’ll plot the first image in the training dataset.\n",
        "In the code cell below, fill in the ellipsis by passing the correct index to retrieve the desired image. Keep in mind that Python starts counting from 0!"
      ],
      "metadata": {
        "id": "FTt-wkbjRtpQ"
      }
    },
    {
      "cell_type": "code",
      "source": [
        "plt.imshow(X_train[0], cmap = \"gray\") \n",
        "plt.show()"
      ],
      "metadata": {
        "colab": {
          "base_uri": "https://localhost:8080/",
          "height": 265
        },
        "id": "YtSE-OqcRuR4",
        "outputId": "9e24a30d-16b7-4ce6-8fbe-cc34c56c6832"
      },
      "execution_count": 3,
      "outputs": [
        {
          "output_type": "display_data",
          "data": {
            "text/plain": [
              "<Figure size 432x288 with 1 Axes>"
            ],
            "image/png": "[encoded data removed]"
          },
          "metadata": {
            "needs_background": "light"
          }
        }
      ]
    },
    {
      "cell_type": "markdown",
      "source": [
        "***Single-Layer Autoencoder***\n"
      ],
      "metadata": {
        "id": "icRGNq6FR3xs"
      }
    },
    {
      "cell_type": "markdown",
      "source": [
        "We start by considering a simple autoencoder with only one hidden layer.\n",
        "We know that our data comes in 28X28 pixel format. Run the code cell below to verify this."
      ],
      "metadata": {
        "id": "3vy8_J1_R7Km"
      }
    },
    {
      "cell_type": "code",
      "source": [
        "print(X_train.shape) \n",
        "print(X_test.shape)"
      ],
      "metadata": {
        "colab": {
          "base_uri": "https://localhost:8080/"
        },
        "id": "bmhwlZB2R8Ft",
        "outputId": "7af86577-3f95-45ac-c3d5-40d5dd583134"
      },
      "execution_count": 4,
      "outputs": [
        {
          "output_type": "stream",
          "name": "stdout",
          "text": [
            "(60000, 28, 28)\n",
            "(10000, 28, 28)\n"
          ]
        }
      ]
    },
    {
      "cell_type": "markdown",
      "source": [
        "We start by reshaping our X data in a convenient format for our model by flattening our images into a 28X28 = 784 array."
      ],
      "metadata": {
        "id": "UrOlVNhUSSvs"
      }
    },
    {
      "cell_type": "code",
      "source": [
        "X_train = X_train.reshape((len(X_train), np.prod(X_train.shape[1:]))) \n",
        "X_test = X_test.reshape((len(X_test), np.prod(X_test.shape[1:])))"
      ],
      "metadata": {
        "id": "TMEfjz5gSTcP"
      },
      "execution_count": 8,
      "outputs": []
    },
    {
      "cell_type": "markdown",
      "source": [
        "Following what we did above, print the shape of the reshaped data."
      ],
      "metadata": {
        "id": "nxPL1IRbSbH7"
      }
    },
    {
      "cell_type": "code",
      "source": [
        "print(X_train.shape)\n",
        "print(X_test.shape)"
      ],
      "metadata": {
        "colab": {
          "base_uri": "https://localhost:8080/"
        },
        "id": "0fDACtvsSbqi",
        "outputId": "ebeeac22-56ed-444f-8972-075a09c9ba09"
      },
      "execution_count": 11,
      "outputs": [
        {
          "output_type": "stream",
          "name": "stdout",
          "text": [
            "(60000, 784)\n",
            "(10000, 784)\n"
          ]
        }
      ]
    },
    {
      "cell_type": "markdown",
      "source": [
        "***Defining the Autoencoder***"
      ],
      "metadata": {
        "id": "bN_HNyelS5tb"
      }
    },
    {
      "cell_type": "markdown",
      "source": [
        "We're now ready to define our autoencoder.\n",
        "In the code cell below, assign to the variable input_size the dimension of the reshaped X data.\n",
        "Next, we set the size of the bottleneck representation (the output of the encoder), as latent_size equal to 10."
      ],
      "metadata": {
        "id": "vKG5uuFYS7Ij"
      }
    },
    {
      "cell_type": "code",
      "source": [
        "input_size = 784 \n",
        "latent_size = 10"
      ],
      "metadata": {
        "id": "xuhrX82SS-Cx"
      },
      "execution_count": 35,
      "outputs": []
    },
    {
      "cell_type": "markdown",
      "source": [
        "Finally, we are ready to define the various parts that constitute the autoencoder. \n",
        "Run the code cell below to import the necessary libraries and modules."
      ],
      "metadata": {
        "id": "KKL08n-9TEW6"
      }
    },
    {
      "cell_type": "code",
      "source": [
        "from keras.models import Model\n",
        "from keras.layers import Dense, Input"
      ],
      "metadata": {
        "id": "hn2pdJk4TGLV"
      },
      "execution_count": 30,
      "outputs": []
    },
    {
      "cell_type": "markdown",
      "source": [
        "As the last step, we want to initialize and run our model.\n",
        "In the code cell below, we define our autoencoder, compile it and fit it to our model.\n",
        "In the function compile , fill in the ellipssis by setting the argument optimize equal to \"adam\" . Finally, set the number of epochs equal to 5.\n",
        "When you are done, run the code cell below to start your model!"
      ],
      "metadata": {
        "id": "W6yBlPpRTQFu"
      }
    },
    {
      "cell_type": "code",
      "source": [
        "input_img = Input(shape=(input_size,)) # input\n",
        "latent_rep = Dense(latent_size, activation='relu')(input_img) #encoding definition\n",
        "output_img = Dense(input_size, activation='sigmoid')(latent_rep) #deco ding definition"
      ],
      "metadata": {
        "id": "QpYOzJmYTjph"
      },
      "execution_count": 31,
      "outputs": []
    },
    {
      "cell_type": "code",
      "source": [
        "autoencoder = Model(input_img, output_img) \n",
        "autoencoder.compile(optimizer='adam', loss='binary_crossentropy')\n",
        "autoencoder.fit(X_train, X_train, epochs=5)"
      ],
      "metadata": {
        "colab": {
          "base_uri": "https://localhost:8080/"
        },
        "id": "6_YalRGoTYv4",
        "outputId": "3574cdaa-93fc-4ab8-90d2-465666d0c319"
      },
      "execution_count": 32,
      "outputs": [
        {
          "output_type": "stream",
          "name": "stdout",
          "text": [
            "Epoch 1/5\n",
            "1875/1875 [==============================] - 8s 4ms/step - loss: 0.1533\n",
            "Epoch 2/5\n",
            "1875/1875 [==============================] - 8s 4ms/step - loss: 0.0962\n",
            "Epoch 3/5\n",
            "1875/1875 [==============================] - 8s 4ms/step - loss: 0.0883\n",
            "Epoch 4/5\n",
            "1875/1875 [==============================] - 7s 4ms/step - loss: 0.0868\n",
            "Epoch 5/5\n",
            "1875/1875 [==============================] - 8s 4ms/step - loss: 0.0863\n"
          ]
        },
        {
          "output_type": "execute_result",
          "data": {
            "text/plain": [
              "<keras.callbacks.History at 0x7fd89d4c7e50>"
            ]
          },
          "metadata": {},
          "execution_count": 32
        }
      ]
    },
    {
      "cell_type": "markdown",
      "source": [
        "***Visualizing our Results***"
      ],
      "metadata": {
        "id": "lmUb7O7cUsLD"
      }
    },
    {
      "cell_type": "markdown",
      "source": [
        "In the code cell below, we have defined an auxiliary function to visualize our results. The first part of the function plots the original data from the dataset, and the second one displays the autoencoded images."
      ],
      "metadata": {
        "id": "jCSQi5zuU3Jp"
      }
    },
    {
      "cell_type": "code",
      "source": [
        "def plot_autoencoder_outputs(autoencoder, n, dims): \n",
        "    decoded_imgs = autoencoder.predict(X_test)\n",
        "    # number of example digits to show\n",
        "    n=5\n",
        "    plt.figure(figsize=(10, 4.5)) \n",
        "    for i in range(n):\n",
        "        # plot original image\n",
        "        ax = plt.subplot(2, n, i + 1) \n",
        "        plt.imshow(X_test[i].reshape(*dims)) \n",
        "        plt.gray()\n",
        "        if i == n/2:\n",
        "            ax.set_title('Original Images')\n",
        "        # plot reconstruction\n",
        "        ax = plt.subplot(2, n, i + 1 + n) \n",
        "        plt.imshow(decoded_imgs[i].reshape(*dims)) \n",
        "        plt.gray()\n",
        "        if i == n/2:\n",
        "            ax.set_title('Reconstructed Images')\n",
        "            plt.show()"
      ],
      "metadata": {
        "id": "lOSf4OENUuUT"
      },
      "execution_count": 33,
      "outputs": []
    },
    {
      "cell_type": "markdown",
      "source": [
        "Finally, run the code cell below to visualize the results."
      ],
      "metadata": {
        "id": "vboQtbgsVwFI"
      }
    },
    {
      "cell_type": "code",
      "source": [
        "plot_autoencoder_outputs(autoencoder, 5, (28, 28))"
      ],
      "metadata": {
        "colab": {
          "base_uri": "https://localhost:8080/",
          "height": 297
        },
        "id": "Di2d3dLXU-As",
        "outputId": "cc6b1926-f17f-487e-ad1f-a0ad96292173"
      },
      "execution_count": 34,
      "outputs": [
        {
          "output_type": "stream",
          "name": "stdout",
          "text": [
            "313/313 [==============================] - 1s 2ms/step\n"
          ]
        },
        {
          "output_type": "display_data",
          "data": {
            "text/plain": [
              "<Figure size 720x324 with 10 Axes>"
            ],
            "image/png": "[encoded data removed]"
          },
          "metadata": {
            "needs_background": "light"
          }
        }
      ]
    },
    {
      "cell_type": "markdown",
      "source": [
        "***Multi-Layer Autoencoder***"
      ],
      "metadata": {
        "id": "tj8arknPYJHL"
      }
    },
    {
      "cell_type": "markdown",
      "source": [
        "In the final part of this activity, we will redefine our encoder to have multiple layers. This is usually what happens in real life.\n",
        "In the code cell below, we define the input and output size as above. Note that in addition, we also define the size of the hidden layers in each of the multilayer encoder and decoder, as hidden_size .\n",
        "Here we return to the smaller latent_size , to see how the more complex encoder and decoder might work, even with the smaller sized bottleneck."
      ],
      "metadata": {
        "id": "2QAXbtOmYNt8"
      }
    },
    {
      "cell_type": "code",
      "source": [
        "input_size = 784 \n",
        "hidden_size = 128\n",
        "latent_size = 10"
      ],
      "metadata": {
        "id": "9yvwf8ESYSlI"
      },
      "execution_count": 36,
      "outputs": []
    },
    {
      "cell_type": "markdown",
      "source": [
        "Next, in a similar way as we did above, we use the function Dense to define the various layers. Note that we now have multiple (2) hidden layers that use a ReLU function as activation."
      ],
      "metadata": {
        "id": "M5e-fuvzYfqG"
      }
    },
    {
      "cell_type": "code",
      "source": [
        "input_img = Input(shape=(input_size,))\n",
        "hidden_1 = Dense(hidden_size, activation='relu')(input_img) \n",
        "latent_rep = Dense(latent_size, activation='relu')(hidden_1) \n",
        "hidden_2 = Dense(hidden_size, activation='relu')(latent_rep) \n",
        "output_img = Dense(input_size, activation='sigmoid')(hidden_2)"
      ],
      "metadata": {
        "id": "q3uhURgnYjEm"
      },
      "execution_count": 37,
      "outputs": []
    },
    {
      "cell_type": "markdown",
      "source": [
        "As a last step, as we did above, we want to define our autoencoder, compile it and fit it to our model. \n",
        "\n",
        "In the function compile , fill in the ellipsis by setting the argument optimize equal to \"adam\" . \n",
        "\n",
        "Finally, set the number of epochs equal to 5, the same as with the single layer autoencoder.\n",
        "\n",
        "When you are done, run the code cell below to start your model!"
      ],
      "metadata": {
        "id": "v-wSHqqSY8Cf"
      }
    },
    {
      "cell_type": "code",
      "source": [
        "autoencoder = Model(input_img, output_img) \n",
        "autoencoder.compile(optimizer='adam', loss='binary_crossentropy')\n",
        "autoencoder.fit(X_train, X_train, epochs=5)"
      ],
      "metadata": {
        "colab": {
          "base_uri": "https://localhost:8080/"
        },
        "id": "zdMCLYgWZBwn",
        "outputId": "b2cc5c4d-bca8-45e4-f30c-bf9e211d931a"
      },
      "execution_count": 38,
      "outputs": [
        {
          "output_type": "stream",
          "name": "stdout",
          "text": [
            "Epoch 1/5\n",
            "1875/1875 [==============================] - 14s 7ms/step - loss: 0.1667\n",
            "Epoch 2/5\n",
            "1875/1875 [==============================] - 14s 8ms/step - loss: 0.1339\n",
            "Epoch 3/5\n",
            "1875/1875 [==============================] - 14s 7ms/step - loss: 0.1258\n",
            "Epoch 4/5\n",
            "1875/1875 [==============================] - 11s 6ms/step - loss: 0.1213\n",
            "Epoch 5/5\n",
            "1875/1875 [==============================] - 11s 6ms/step - loss: 0.1188\n"
          ]
        },
        {
          "output_type": "execute_result",
          "data": {
            "text/plain": [
              "<keras.callbacks.History at 0x7fd89abda520>"
            ]
          },
          "metadata": {},
          "execution_count": 38
        }
      ]
    },
    {
      "cell_type": "markdown",
      "source": [
        "Finally, we use the same auxiliary plotting function to see how well we did."
      ],
      "metadata": {
        "id": "rZK_2qgnZTzS"
      }
    },
    {
      "cell_type": "code",
      "source": [
        "plot_autoencoder_outputs(autoencoder, 5, (28, 28))"
      ],
      "metadata": {
        "colab": {
          "base_uri": "https://localhost:8080/",
          "height": 297
        },
        "id": "lnAyYGisZUkA",
        "outputId": "5bb724e4-25da-470f-cdfe-159286118875"
      },
      "execution_count": 39,
      "outputs": [
        {
          "output_type": "stream",
          "name": "stdout",
          "text": [
            "313/313 [==============================] - 1s 3ms/step\n"
          ]
        },
        {
          "output_type": "display_data",
          "data": {
            "text/plain": [
              "<Figure size 720x324 with 10 Axes>"
            ],
            "image/png": "[encoded data removed]"
          },
          "metadata": {
            "needs_background": "light"
          }
        }
      ]
    }
  ]
}