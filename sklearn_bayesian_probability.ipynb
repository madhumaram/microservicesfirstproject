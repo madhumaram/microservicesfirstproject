{
  "nbformat": 4,
  "nbformat_minor": 0,
  "metadata": {
    "colab": {
      "provenance": [],
      "authorship_tag": "ABX9TyMlfRZt82RB1FVhIz6ssfoy",
      "include_colab_link": true
    },
    "kernelspec": {
      "name": "python3",
      "display_name": "Python 3"
    },
    "language_info": {
      "name": "python"
    }
  },
  "cells": [
    {
      "cell_type": "markdown",
      "metadata": {
        "id": "view-in-github",
        "colab_type": "text"
      },
      "source": [
        "<a href=\"https://colab.research.google.com/github/madhumaram/microservicesfirstproject/blob/master/sklearn_bayesian_probability.ipynb\" target=\"_parent\"><img src=\"https://colab.research.google.com/assets/colab-badge.svg\" alt=\"Open In Colab\"/></a>"
      ]
    },
    {
      "cell_type": "code",
      "execution_count": 6,
      "metadata": {
        "id": "8w5hw7CHYkST"
      },
      "outputs": [],
      "source": [
        "# example of Gaussian naive bayes\n",
        "\n",
        "#importing libraries\n",
        "from sklearn.datasets import make_blobs\n",
        "from sklearn.naive_bayes import GaussianNB\n",
        "# generate 2d classification dataset\n",
        "X, y = make_blobs(n_samples=100, centers=2, n_features=2, random_state\n",
        "=1)"
      ]
    },
    {
      "cell_type": "code",
      "source": [
        "import numpy as np\n",
        "from scipy.stats import norm\n",
        "# fit a probability distribution to a univariate data sample\n",
        "def fit_distribution(data): \n",
        "  # estimate parameters \n",
        "  mu = np.mean(data) \n",
        "  sigma = np.std(data) \n",
        "  print(mu, sigma)\n",
        "  # fit distribution\n",
        "  dist = norm(mu, sigma) \n",
        "  return dist\n",
        "  "
      ],
      "metadata": {
        "id": "_zObd_byY6Rk"
      },
      "execution_count": 7,
      "outputs": []
    },
    {
      "cell_type": "markdown",
      "source": [
        "We start by separating the values of X that have corresponding y equal to 0."
      ],
      "metadata": {
        "id": "EauD7s08ZQDY"
      }
    },
    {
      "cell_type": "code",
      "source": [
        "# sort data into 0 class \n",
        "Xy0 = X[y == 0]"
      ],
      "metadata": {
        "id": "bsyD2z_ZZFPr"
      },
      "execution_count": 8,
      "outputs": []
    },
    {
      "cell_type": "markdown",
      "source": [
        "In the code cell below, define the variable Xy1 which contains those values of X for which y is equal to 1."
      ],
      "metadata": {
        "id": "AyYjAcmaZRJ2"
      }
    },
    {
      "cell_type": "code",
      "source": [
        "# sort data into 1 class\n",
        "Xy1 = X[y == 1]\n"
      ],
      "metadata": {
        "id": "VMPu2CGXZTMJ"
      },
      "execution_count": 9,
      "outputs": []
    },
    {
      "cell_type": "code",
      "source": [
        "print(Xy0.shape, Xy1.shape)"
      ],
      "metadata": {
        "colab": {
          "base_uri": "https://localhost:8080/"
        },
        "id": "r1m1xj_JZbLB",
        "outputId": "91fc617c-9851-4126-db3c-64a97805489f"
      },
      "execution_count": 10,
      "outputs": [
        {
          "output_type": "stream",
          "name": "stdout",
          "text": [
            "(50, 2) (50, 2)\n"
          ]
        }
      ]
    },
    {
      "cell_type": "markdown",
      "source": [
        "It'll also be useful to plot our data, with class labels 0 in red, and class labels 1 in black. We can see that each group looks approximately Gaussian, with good separation between the two groups. So there's hope in building a good prediction model!"
      ],
      "metadata": {
        "id": "G2kbFk7sZjKt"
      }
    },
    {
      "cell_type": "code",
      "source": [
        "import matplotlib.pyplot as plt\n",
        "plt.scatter(Xy0[:,0], Xy0[:,1], c='red') # class 0 \n",
        "plt.scatter(Xy1[:,0], Xy1[:,1], c='blue') # class 1 \n",
        "plt.show()"
      ],
      "metadata": {
        "colab": {
          "base_uri": "https://localhost:8080/",
          "height": 265
        },
        "id": "UvX2TNb1Zj0o",
        "outputId": "faa61b7f-0e70-41fd-c1e5-19cb1d8c259e"
      },
      "execution_count": 11,
      "outputs": [
        {
          "output_type": "display_data",
          "data": {
            "text/plain": [
              "<Figure size 432x288 with 1 Axes>"
            ],
            "image/png": "[encoded data removed]"
          },
          "metadata": {
            "needs_background": "light"
          }
        }
      ]
    },
    {
      "cell_type": "markdown",
      "source": [
        "We can then use these groups to calculate the prior probabilities for a data sample belonging to each group. This will be 50% exactly, given that we've created the same number of examples in each of the two classes;\n",
        "nevertheless, we will calculate these priors for completeness. We start with the prior for Xy0 ."
      ],
      "metadata": {
        "id": "Pi6rF2F3Z140"
      }
    },
    {
      "cell_type": "code",
      "source": [
        "# calculate priors\n",
        "priory0 = len(Xy0) / len(X)\n"
      ],
      "metadata": {
        "id": "wnTBo3qeZ4cd"
      },
      "execution_count": 12,
      "outputs": []
    },
    {
      "cell_type": "markdown",
      "source": [
        "Following what we just did, in the code below calculate the prior for Xy1 "
      ],
      "metadata": {
        "id": "HGcVSdfPZ-xL"
      }
    },
    {
      "cell_type": "code",
      "source": [
        "priory1 = len(Xy1) / len(X)"
      ],
      "metadata": {
        "id": "wSsn_G_rZ_hU"
      },
      "execution_count": 13,
      "outputs": []
    },
    {
      "cell_type": "markdown",
      "source": [
        "Below, we print the probabilities:"
      ],
      "metadata": {
        "id": "9H3XI-C_aEJy"
      }
    },
    {
      "cell_type": "code",
      "source": [
        "print(priory0, priory1)"
      ],
      "metadata": {
        "colab": {
          "base_uri": "https://localhost:8080/"
        },
        "id": "a7GAq5LPaExf",
        "outputId": "373efccb-99e8-451f-c662-b10a4ecb897c"
      },
      "execution_count": 14,
      "outputs": [
        {
          "output_type": "stream",
          "name": "stdout",
          "text": [
            "0.5 0.5\n"
          ]
        }
      ]
    },
    {
      "cell_type": "markdown",
      "source": [
        "Finally, we can call the fit_distribution() function that we defined to prepare a probability\n",
        "distribution for each variable, for each class label. Run the code cell below:"
      ],
      "metadata": {
        "id": "msLOJ6oqaLdv"
      }
    },
    {
      "cell_type": "code",
      "source": [
        "# create PDFs for y==0\n",
        "distX1y0 = fit_distribution(Xy0[:, 0])\n",
        "distX2y0 = fit_distribution(Xy0[:, 1])"
      ],
      "metadata": {
        "colab": {
          "base_uri": "https://localhost:8080/"
        },
        "id": "Q7PD3HBdaMEo",
        "outputId": "5e325476-c7f7-4d1a-d856-b76e55505b11"
      },
      "execution_count": 15,
      "outputs": [
        {
          "output_type": "stream",
          "name": "stdout",
          "text": [
            "-1.5632888906409914 0.787444265443213\n",
            "4.426680361487157 0.958296071258367\n"
          ]
        }
      ]
    },
    {
      "cell_type": "markdown",
      "source": [
        "In the code cell below, compute the PDFs parameters for Xy1 ."
      ],
      "metadata": {
        "id": "gSPhVy5ObwBN"
      }
    },
    {
      "cell_type": "code",
      "source": [
        "# create PDFs for y==1\n",
        "distX1y1 = fit_distribution(Xy1[:, 0])\n",
        "distX2y1 = fit_distribution(Xy1[:, 1])"
      ],
      "metadata": {
        "colab": {
          "base_uri": "https://localhost:8080/"
        },
        "id": "4GnTFUE2byxx",
        "outputId": "cc9c3f08-3327-49e1-b7c5-bdd694913d81"
      },
      "execution_count": 16,
      "outputs": [
        {
          "output_type": "stream",
          "name": "stdout",
          "text": [
            "-9.681177100524485 0.8943078901048118\n",
            "-3.9713794295185845 0.9308177595208521\n"
          ]
        }
      ]
    },
    {
      "cell_type": "markdown",
      "source": [
        "we can use the prepared probabilistic model to make a prediction.\n",
        "The independent conditional probability for each class label can be calculated using the prior for the class (50%) and the conditional probability of the value for each variable.\n",
        "The probability() function defined below performs this calculation. The value returned is a relative score rather than a probability, as the quantity is not normalized to \u001d (\u001d) in Bayes' formula, that normalization is handled by the corresponding sklearn function, which we will explore later below."
      ],
      "metadata": {
        "id": "w9DXVb34_fUg"
      }
    },
    {
      "cell_type": "code",
      "source": [
        "# calculate the independent conditional probability \n",
        "def probability(X, prior, dist1, dist2):\n",
        "    return prior * dist1.pdf(X[0]) * dist2.pdf(X[1])"
      ],
      "metadata": {
        "id": "r_1L2HeF_kIU"
      },
      "execution_count": 17,
      "outputs": []
    },
    {
      "cell_type": "markdown",
      "source": [
        "We can use this function to calculate the probability for an example belonging to each class. First, we can select an example to be classified - in this case, the first example in the dataset."
      ],
      "metadata": {
        "id": "mkJ9azKT_1ZO"
      }
    },
    {
      "cell_type": "code",
      "source": [
        "# classify one example\n",
        "Xsample, ysample = X[0], y[0]"
      ],
      "metadata": {
        "id": "nytdXITy_2am"
      },
      "execution_count": 18,
      "outputs": []
    },
    {
      "cell_type": "markdown",
      "source": [
        "In the code cell below, we can calculate the score of the example belonging to the first class"
      ],
      "metadata": {
        "id": "kGfPAtkoAfLb"
      }
    },
    {
      "cell_type": "code",
      "source": [
        "py0 = probability(Xsample, priory0, distX1y0, distX2y0)"
      ],
      "metadata": {
        "id": "3zqM6r89AmVe"
      },
      "execution_count": 19,
      "outputs": []
    },
    {
      "cell_type": "markdown",
      "source": [
        "Follow the code above to compute the probabily for the second class."
      ],
      "metadata": {
        "id": "XJNq86JfAtgE"
      }
    },
    {
      "cell_type": "code",
      "source": [
        "py1 = probability(Xsample, priory1, distX1y1, distX2y1)"
      ],
      "metadata": {
        "id": "pFgsfS0nAuNq"
      },
      "execution_count": 20,
      "outputs": []
    },
    {
      "cell_type": "markdown",
      "source": [
        "Next, we compute the probabilities:"
      ],
      "metadata": {
        "id": "oyFXMP-iAz36"
      }
    },
    {
      "cell_type": "code",
      "source": [
        "print('P(y=0 | %s) = %.3f' % (Xsample, py0*100)) \n",
        "print('P(y=1 | %s) = %.3f' % (Xsample, py1*100))"
      ],
      "metadata": {
        "colab": {
          "base_uri": "https://localhost:8080/"
        },
        "id": "7Eljv-M-A1s_",
        "outputId": "6a1feba8-05a4-498a-ad75-a4675b4c91b9"
      },
      "execution_count": 21,
      "outputs": [
        {
          "output_type": "stream",
          "name": "stdout",
          "text": [
            "P(y=0 | [-0.79415228  2.10495117]) = 0.348\n",
            "P(y=1 | [-0.79415228  2.10495117]) = 0.000\n"
          ]
        }
      ]
    },
    {
      "cell_type": "markdown",
      "source": [
        "It provides three implementations, one for each of the three main probability distributions; for example, BernoulliNB , MultinomialNB , and GaussianNB for binomial, multinomial, and Gaussian-\n",
        "distributed input variables, respectively.\n",
        "To use a sklearn Bayes' model, first, the model is defined, then it's fit on the training dataset. Once fit, probabilities can be predicted via the predict_proba() function, and class labels can be predicted directly via the predict() function.\n",
        "\n",
        "The complete example of fitting a Gaussian Bayes' model ( GaussianNB ) to the same test dataset is given below."
      ],
      "metadata": {
        "id": "yl42eX5EBSqs"
      }
    },
    {
      "cell_type": "code",
      "source": [
        "# example of Gaussian naive bayes\n",
        "#importing libraries\n",
        "from sklearn.datasets import make_blobs\n",
        "from sklearn.naive_bayes import GaussianNB\n",
        "# generate 2d classification dataset\n",
        "X, y = make_blobs(n_samples=100, centers=2, n_features=2, random_state =1)"
      ],
      "metadata": {
        "id": "DbJnm4MoBl2A"
      },
      "execution_count": 22,
      "outputs": []
    },
    {
      "cell_type": "code",
      "source": [
        "# define the model\n",
        "model = GaussianNB()\n",
        "# fit the model\n",
        "model.fit(X, y)\n",
        "# select a single sample\n",
        "Xsample, ysample = [X[0]], y[0]\n",
        "# make a probabilistic prediction\n",
        "yhat_prob = model.predict_proba(Xsample)"
      ],
      "metadata": {
        "id": "zGNwzVV3Y8fJ"
      },
      "execution_count": 23,
      "outputs": []
    },
    {
      "cell_type": "code",
      "source": [
        "print('Predicted Probabilities: ', yhat_prob)\n",
        "\n",
        "# make a classification prediction\n",
        "yhat_class = model.predict(Xsample)\n",
        "print('Predicted Class: ', yhat_class)\n",
        "print('Truth: y=%d' % ysample)"
      ],
      "metadata": {
        "colab": {
          "base_uri": "https://localhost:8080/"
        },
        "id": "s3JkYHVsZWft",
        "outputId": "c25118e9-0a99-41ce-b558-7cf8e2a1f1ed"
      },
      "execution_count": 25,
      "outputs": [
        {
          "output_type": "stream",
          "name": "stdout",
          "text": [
            "Predicted Probabilities:  [[1.00000000e+00 5.52387327e-30]]\n",
            "Predicted Class:  [0]\n",
            "Truth: y=0\n"
          ]
        }
      ]
    },
    {
      "cell_type": "markdown",
      "source": [
        "Running the example fits the model on the training dataset, then makes predictions for the same first example that we used in the prior example."
      ],
      "metadata": {
        "id": "Q6-Alk-8CG3A"
      }
    },
    {
      "cell_type": "code",
      "source": [
        "print('Xsample:', Xsample)\n",
        "print('Predicted Probabilities: ', yhat_prob) \n",
        "# make a classification prediction\n",
        "yhat_class = model.predict(Xsample) \n",
        "print('Predicted Class: ', yhat_class) \n",
        "print('True Class: y=%d' % ysample)"
      ],
      "metadata": {
        "colab": {
          "base_uri": "https://localhost:8080/"
        },
        "id": "T22_llSACL_Z",
        "outputId": "7a5ade14-3caa-4db6-de6c-eeaec39c0776"
      },
      "execution_count": 26,
      "outputs": [
        {
          "output_type": "stream",
          "name": "stdout",
          "text": [
            "Xsample: [array([-0.79415228,  2.10495117])]\n",
            "Predicted Probabilities:  [[1.00000000e+00 5.52387327e-30]]\n",
            "Predicted Class:  [0]\n",
            "True Class: y=0\n"
          ]
        }
      ]
    },
    {
      "cell_type": "markdown",
      "source": [
        "To help visualize this, we repeat the plot of our data but now adding the point whose class we are trying to predict, as a black 'X':"
      ],
      "metadata": {
        "id": "6W2Y6zquCSYe"
      }
    },
    {
      "cell_type": "code",
      "source": [
        "plt.scatter(Xy0[:,0], Xy0[:,1], c='red') #class 0 \n",
        "plt.scatter(Xy1[:,0], Xy1[:,1], c='blue') #class 1 \n",
        "plt.scatter(Xsample[0][0], Xsample[0][1], c='black', marker='X') \n",
        "plt.show()"
      ],
      "metadata": {
        "colab": {
          "base_uri": "https://localhost:8080/",
          "height": 265
        },
        "id": "3Gen0FHzCWHz",
        "outputId": "2a7963be-35e0-4b7e-f769-35c688be2efe"
      },
      "execution_count": 27,
      "outputs": [
        {
          "output_type": "display_data",
          "data": {
            "text/plain": [
              "<Figure size 432x288 with 1 Axes>"
            ],
            "image/png": "[encoded data removed]"
          },
          "metadata": {
            "needs_background": "light"
          }
        }
      ]
    },
    {
      "cell_type": "markdown",
      "source": [
        "Let's try again, this time for a data point we haven't seen before:"
      ],
      "metadata": {
        "id": "RUtL_vjzCiPa"
      }
    },
    {
      "cell_type": "code",
      "source": [
        "Xsample = np.array([[-9.0, -5.0]]) #new data point print('Xsample:', Xsample)\n",
        "# make a probabilistic prediction\n",
        "yhat_prob = model.predict_proba(Xsample)\n",
        "print('Predicted Probabilities: ', yhat_prob)\n",
        "yhat_class = model.predict(Xsample)\n",
        "print('Predicted Class: ', yhat_class)\n",
        "plt.scatter(Xy0[:,0], Xy0[:,1], c='red') #class 0 \n",
        "plt.scatter(Xy1[:,0], Xy1[:,1], c='blue') #class 1 \n",
        "plt.scatter(Xsample[0][0], Xsample[0][1], c='black', marker='X') \n",
        "plt.show()"
      ],
      "metadata": {
        "colab": {
          "base_uri": "https://localhost:8080/",
          "height": 299
        },
        "id": "Xh5-YVerCjSl",
        "outputId": "e74b4f6f-ca5f-4720-e84c-c9b00cda7115"
      },
      "execution_count": 28,
      "outputs": [
        {
          "output_type": "stream",
          "name": "stdout",
          "text": [
            "Predicted Probabilities:  [[1.13217562e-40 1.00000000e+00]]\n",
            "Predicted Class:  [1]\n"
          ]
        },
        {
          "output_type": "display_data",
          "data": {
            "text/plain": [
              "<Figure size 432x288 with 1 Axes>"
            ],
            "image/png": "[encoded data removed]"
          },
          "metadata": {
            "needs_background": "light"
          }
        }
      ]
    },
    {
      "cell_type": "code",
      "source": [
        "# sort data into 0 class\n",
        "\n",
        "Xy0 = X[y == 0]\n",
        "# sort data into 1 class\n",
        "\n",
        "Xy1 = X[y == 1]"
      ],
      "metadata": {
        "id": "DDPVEL4ja7c0"
      },
      "execution_count": 5,
      "outputs": []
    },
    {
      "cell_type": "code",
      "source": [
        "import matplotlib.pyplot as plt\n",
        "plt.scatter(Xy0[:,0], Xy0[:,1], c='red') #class 0\n",
        "plt.scatter(Xy1[:,0], Xy1[:,1], c='blue') #class 1\n",
        "plt.scatter(Xsample[0][0], Xsample[0][1], c='black', marker='X')\n",
        "plt.show()"
      ],
      "metadata": {
        "colab": {
          "base_uri": "https://localhost:8080/",
          "height": 265
        },
        "id": "X8zxmALXaD8P",
        "outputId": "640f6c67-7248-4aee-a5fa-d9f6a23ed9be"
      },
      "execution_count": 6,
      "outputs": [
        {
          "output_type": "display_data",
          "data": {
            "text/plain": [
              "<Figure size 432x288 with 1 Axes>"
            ],
            "image/png": "[encoded data removed]"
          },
          "metadata": {
            "needs_background": "light"
          }
        }
      ]
    },
    {
      "cell_type": "code",
      "source": [
        "import numpy as np\n",
        "Xsample = np.array([[-9.0, -5.0]]) #new data point\n",
        "\n",
        "print('Xsample:', Xsample)\n",
        "# make a probabilistic prediction\n",
        "yhat_prob = model.predict_proba(Xsample)\n",
        "print('Predicted Probabilities: ', yhat_prob)\n",
        "yhat_class = model.predict(Xsample)\n",
        "print('Predicted Class: ', yhat_class)\n",
        "plt.scatter(Xy0[:,0], Xy0[:,1], c='red') #class 0\n",
        "plt.scatter(Xy1[:,0], Xy1[:,1], c='blue') #class 1\n",
        "plt.scatter(Xsample[0][0], Xsample[0][1], c='black', marker='X')\n",
        "plt.show()"
      ],
      "metadata": {
        "colab": {
          "base_uri": "https://localhost:8080/",
          "height": 316
        },
        "id": "qLTfrx0fbJ7-",
        "outputId": "940e3575-9d5a-45ed-9c22-a574b9d06513"
      },
      "execution_count": 7,
      "outputs": [
        {
          "output_type": "stream",
          "name": "stdout",
          "text": [
            "Xsample: [[-9. -5.]]\n",
            "Predicted Probabilities:  [[1.13217562e-40 1.00000000e+00]]\n",
            "Predicted Class:  [1]\n"
          ]
        },
        {
          "output_type": "display_data",
          "data": {
            "text/plain": [
              "<Figure size 432x288 with 1 Axes>"
            ],
            "image/png": "[encoded data removed]"
          },
          "metadata": {
            "needs_background": "light"
          }
        }
      ]
    },
    {
      "cell_type": "code",
      "source": [],
      "metadata": {
        "id": "gixa0tRObJ-5"
      },
      "execution_count": null,
      "outputs": []
    }
  ]
}